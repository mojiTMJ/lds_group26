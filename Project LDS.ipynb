{
 "cells": [
  {
   "cell_type": "code",
   "execution_count": null,
   "metadata": {},
   "outputs": [],
   "source": [
    "import csv\n",
    "import pyodbc\n",
    "\n",
    "\n",
    "\n",
    "server = 'tcp:apa.di.unipi.it'\n",
    "username = 'group26' \n",
    "password = 'l3wwh' \n",
    "connectionString = 'DRIVER={ODBC Driver 17 for SQL Server};SERVER='+server+';UID='+username+';PWD='+ password\n",
    "\n",
    "_haveDb=True\n",
    "_db = pyodbc.connect(connectionString,autocommit=True)\n",
    "_cursor = _db.cursor()\n",
    "AvailableDbs = _cursor.execute(\"SELECT name FROM master.sys.databases\")\n",
    "for x in AvailableDbs:\n",
    "    print(x)\n",
    "\n",
    "DbName = \"Group26HWMart\"\n",
    "_cursor.execute(\"DELETE FROM [Group26HWMart].[group26].[gpu_sales]\")\n",
    "# _cursor.execute('CREATE DATABASE ' + DbName)\n",
    "# _cursor.execute(\"USE [\"+DbName+\"] DROP TABLE [dbo].[Ram_sales];\")\n",
    "# _cursor.execute(\"USE [\"+DbName+\"] DROP TABLE [dbo].[Gpu_sales];\")\n",
    "# _cursor.execute(\"USE [\"+DbName+\"] DROP TABLE [dbo].[Cpu_sales];\")\n",
    "# _cursor.execute(\"USE [\"+DbName+\"] CREATE TABLE [dbo].[Cpu_sales]([Id] [int] IDENTITY(1,1) NOT NULL,[Cpu_code] [int] NOT NULL,[time_code] [int] NOT NULL,[geo_code] [int] NOT NULL,[vendor_code] [int] NULL,[sales_usd] [decimal](19,4) NOT NULL,[sales_currency] [varchar](20) NOT NULL,CONSTRAINT [PK_Gpu_sales] PRIMARY KEY CLUSTERED ([Id] ASC)WITH (PAD_INDEX = OFF, STATISTICS_NORECOMPUTE = OFF, IGNORE_DUP_KEY = OFF, ALLOW_ROW_LOCKS = ON, ALLOW_PAGE_LOCKS = ON) ON [PRIMARY]) ON [PRIMARY]\")\n",
    "# _cursor.execute(\"USE [\"+DbName+\"] CREATE TABLE [dbo].[Ram_product]([Id] [int] IDENTITY(1,1) NOT NULL,[ram_code] [int] NOT NULL,[brand] [varchar](50) NOT NULL,[name] [varchar](50) NOT NULL,[memory] [varchar](50) NULL,[memory_type] [varchar](50) NOT NULL,[clock] [varchar](50) NULL,CONSTRAINT [PK_Ram_product] PRIMARY KEY CLUSTERED ([Id] ASC)WITH (PAD_INDEX = OFF, STATISTICS_NORECOMPUTE = OFF, IGNORE_DUP_KEY = OFF, ALLOW_ROW_LOCKS = ON, ALLOW_PAGE_LOCKS = ON) ON [PRIMARY]) ON [PRIMARY]\")\n",
    "# _cursor.execute(\"USE [\"+DbName+\"] CREATE TABLE [dbo].[Ram_sales]([Id] [int] IDENTITY(1,1) NOT NULL,[ram_code] [int] NOT NULL,[time_code] [int] NOT NULL,[geo_code] [int] NOT NULL,[vendor_code] [int] NULL,[sales_usd] [decimal](19,4) NOT NULL,[sales_currency] [varchar](20) NOT NULL,CONSTRAINT [PK_Ram_sales] PRIMARY KEY CLUSTERED ([Id] ASC)WITH (PAD_INDEX = OFF, STATISTICS_NORECOMPUTE = OFF, IGNORE_DUP_KEY = OFF, ALLOW_ROW_LOCKS = ON, ALLOW_PAGE_LOCKS = ON) ON [PRIMARY]) ON [PRIMARY]\")\n",
    "# _cursor.execute(\"USE [\"+DbName+\"] CREATE TABLE [dbo].[Gpu_product]([Id] [int] IDENTITY(1,1) NOT NULL,[gpu_code] [int] NOT NULL,[processor] [varchar](50) NOT NULL,[processor_manufacturer] [varchar](50) NOT NULL,[brand] [varchar](50) NULL,[memory] [varchar](10) NOT NULL,[memory_type] [varchar](10) NULL,CONSTRAINT [PK_Gpu_product] PRIMARY KEY CLUSTERED ([Id] ASC)WITH (PAD_INDEX = OFF, STATISTICS_NORECOMPUTE = OFF, IGNORE_DUP_KEY = OFF, ALLOW_ROW_LOCKS = ON, ALLOW_PAGE_LOCKS = ON) ON [PRIMARY]) ON [PRIMARY]\")\n",
    "# _cursor.execute(\"USE [\"+DbName+\"] CREATE TABLE [dbo].[Gpu_sales]([Id] [int] IDENTITY(1,1) NOT NULL,[gpu_code] [int] NOT NULL,[time_code] [int] NOT NULL,[geo_code] [int] NOT NULL,[vendor_code] [int] NULL,[sales_usd] [decimal](19,4) NOT NULL,[sales_currency] [varchar](20) NOT NULL,CONSTRAINT [PK_Gpu_sales] PRIMARY KEY CLUSTERED ([Id] ASC)WITH (PAD_INDEX = OFF, STATISTICS_NORECOMPUTE = OFF, IGNORE_DUP_KEY = OFF, ALLOW_ROW_LOCKS = ON, ALLOW_PAGE_LOCKS = ON) ON [PRIMARY]) ON [PRIMARY]\")\n",
    "# _cursor.execute(\"USE [\"+DbName+\"] CREATE TABLE [dbo].[Cpu_product]([Id] [int] IDENTITY(1,1) NOT NULL,[Cpu_code] [int] NOT NULL,[brand] [varchar](50) NOT NULL,[series] [varchar](50) NULL,[name] [varchar](50) NOT NULL,[socket] [varchar](50) NOT NULL,[n_cores] [int] NOT NULL,CONSTRAINT [PK_Cpu_product] PRIMARY KEY CLUSTERED ([Id] ASC)WITH (PAD_INDEX = OFF, STATISTICS_NORECOMPUTE = OFF, IGNORE_DUP_KEY = OFF, ALLOW_ROW_LOCKS = ON, ALLOW_PAGE_LOCKS = ON) ON [PRIMARY]) ON [PRIMARY]\")\n",
    "# _cursor.execute(\"USE [\"+DbName+\"] CREATE TABLE [dbo].[Geography]([Id] [int] IDENTITY(1,1) NOT NULL,[geo_code] [int] NOT NULL,[continent] [varchar](20) NOT NULL,[country] [varchar](100) NOT NULL,[region] [int] NULL,[currency] [char](10) NOT NULL, CONSTRAINT [PK_Geography] PRIMARY KEY CLUSTERED ([Id] ASC)WITH (PAD_INDEX = OFF, STATISTICS_NORECOMPUTE = OFF, IGNORE_DUP_KEY = OFF, ALLOW_ROW_LOCKS = ON, ALLOW_PAGE_LOCKS = ON) ON [PRIMARY]) ON [PRIMARY]\")\n",
    "# _cursor.execute(\"USE [\"+DbName+\"] CREATE TABLE [dbo].[Vendor]([Id] [int] IDENTITY(1,1) NOT NULL,[vendor_code] [int] , [brand] [varchar](100) NOT NULL, CONSTRAINT [PK_Vendor] PRIMARY KEY CLUSTERED ([Id] ASC)WITH (PAD_INDEX = OFF, STATISTICS_NORECOMPUTE = OFF, IGNORE_DUP_KEY = OFF, ALLOW_ROW_LOCKS = ON, ALLOW_PAGE_LOCKS = ON) ON [PRIMARY]) ON [PRIMARY]\")\n",
    "# _cursor.execute(\"USE [\"+DbName+\"] CREATE TABLE [dbo].[Time]([time_id] [int] IDENTITY(1,1) NOT NULL,[year] [int] NOT NULL,[month] [int] NOT NULL,[day] [int] NOT NULL,[week] [char](10) NOT NULL,[quarter] [char](4) NOT NULL,[day_of_week] [varchar](10) NOT NULL, CONSTRAINT [PK_Time] PRIMARY KEY CLUSTERED ([time_id] ASC)WITH (PAD_INDEX = OFF, STATISTICS_NORECOMPUTE = OFF, IGNORE_DUP_KEY = OFF, ALLOW_ROW_LOCKS = ON, ALLOW_PAGE_LOCKS = ON) ON [PRIMARY]) ON [PRIMARY]\")\n",
    "\n",
    "\n",
    "fact_csv_file = open('fact.csv','r')\n",
    "i = 0\n",
    "gpu = []\n",
    "cpu = []\n",
    "ram = []\n",
    "\n",
    "# j = 1\n",
    "# k = 1\n",
    "# m = 1\n",
    "\n",
    "for row in csv.DictReader(fact_csv_file):\n",
    "    if row[\"gpu_code\"] not in (None, ''):\n",
    "        gpu.append((int(float(row[\"gpu_code\"])),int(row[\"time_code\"]), int(row[\"geo_code\"]), int(row[\"vendor_code\"]), float(row[\"sales_uds\"]), row[\"sales_currency\"] ))\n",
    "        \n",
    "    elif row[\"ram_code\"] not in (None, ''):\n",
    "        ram.append((int(float(row[\"ram_code\"])),int(row[\"time_code\"]), int(row[\"geo_code\"]), int(row[\"vendor_code\"]), float(row[\"sales_uds\"]), row[\"sales_currency\"] ))\n",
    "\n",
    "    elif row[\"cpu_code\"] not in (None, ''):\n",
    "        cpu.append((int(float(row[\"cpu_code\"])),int(row[\"time_code\"]), int(row[\"geo_code\"]), int(row[\"vendor_code\"]), float(row[\"sales_uds\"]), row[\"sales_currency\"] ))\n",
    "    print(i)\n",
    "    i = i + 1\n",
    "\n",
    "fact_csv_file.close()\n",
    "\n",
    "print('gpu: ',len(gpu))\n",
    "print('cpu: ',len(cpu))\n",
    "print('ram: ',len(ram))\n",
    "\n",
    "_cursor.fast_executemany = True\n",
    "\n",
    "tmp = 0\n",
    "size = int(len(gpu)/200000)\n",
    "for l in range(size):\n",
    "    temp = 200000*(l + 1)\n",
    "    _cursor.executemany(\"INSERT INTO [Group26HWMart].[group26].[gpu_sales] VALUES (?, ?, ?, ?, ?, ?)\", gpu[tmp:temp])\n",
    "    tmp = temp\n",
    "\n",
    "_cursor.executemany(\"INSERT INTO [Group26HWMart].[group26].[gpu_sales] VALUES (?, ?, ?, ?, ?, ?)\", gpu[tmp:])\n",
    "\n",
    "size = int(len(cpu)/200000)\n",
    "for l in range(size):\n",
    "    temp = 200000*(l + 1)\n",
    "    _cursor.executemany(\"INSERT INTO [Group26HWMart].[group26].[cpu_sales] VALUES (?, ?, ?, ?, ?, ?)\", gpu[tmp:temp])\n",
    "    tmp = temp\n",
    "\n",
    "_cursor.executemany(\"INSERT INTO [Group26HWMart].[group26].[cpu_sales] VALUES (?, ?, ?, ?, ?, ?)\", gpu[tmp:])\n",
    "\n",
    "size = int(len(ram)/200000)\n",
    "for l in range(size):\n",
    "    temp = 200000*(l + 1)\n",
    "    _cursor.executemany(\"INSERT INTO [Group26HWMart].[group26].[ram_sales] VALUES (?, ?, ?, ?, ?, ?)\", gpu[tmp:temp])\n",
    "    tmp = temp\n",
    "\n",
    "_cursor.executemany(\"INSERT INTO [Group26HWMart].[group26].[ram_sales] VALUES (?, ?, ?, ?, ?, ?)\", gpu[tmp:])\n",
    "\n",
    "_cursor.execute(\"SELECT * FROM [Group26HWMart].[group26].[gpu_sales];\")\n",
    "rows = _cursor.fetchall()\n",
    "for row in rows:\n",
    "    print(row)\n",
    "\n",
    "_cursor.close()\n",
    "\n",
    "# sample = open('sample.csv', 'w')\n",
    "\n",
    "\n",
    "# csv_out=csv.writer(sample)\n",
    "# csv_out.writerow([\"Id\", \"gpu_code\", \"time_code\", \"geo_code\", \"vendor_code\", \"sales_uds\", \"sales_currency\"])\n",
    "# csv_out.writerows(gpu)\n",
    "\n",
    "# sample.close()\n",
    "\n",
    "# _cursor.execute(\"BULK INSERT [dbo].[Gpu_sales] FROM '/home/navid/my_program/sample.csv' WITH(FIRSTROW = 2, FIELDTERMINATOR = ',',ROWTERMINATOR = '\\n',  TABLOCK)\")\n",
    "\n",
    "# print('done')\n",
    "\n",
    "# sample1 = open('sample1.csv', 'w')\n",
    "# csv_ou=csv.writer(sample1)\n",
    "# csv_ou.writerow([\"Id\", \"cpu_code\", \"time_code\", \"geo_code\", \"vendor_code\", \"sales_uds\", \"sales_currency\"])\n",
    "# csv_ou.writerows(cpu)\n",
    "# sample1.close()\n",
    "\n",
    "# _cursor.execute(\"BULK INSERT [dbo].[Cpu_sales] FROM '/home/navid/my_program/sample1.csv' WITH(FIRSTROW = 2, FIELDTERMINATOR = ',',ROWTERMINATOR = '\\n',  TABLOCK)\")\n",
    "\n",
    "# print('done')\n",
    "\n",
    "# sample2 = open('sample2.csv', 'w')\n",
    "# csv_o=csv.writer(sample1)\n",
    "# csv_o.writerow([\"Id\", \"ram_code\", \"time_code\", \"geo_code\", \"vendor_code\", \"sales_uds\", \"sales_currency\"])\n",
    "# csv_o.writerows(ram)\n",
    "# sample1.close()\n",
    "\n",
    "# _cursor.execute(\"BULK INSERT [dbo].[Ram_sales] FROM '/home/navid/my_program/sample1.csv' WITH(FIRSTROW = 2, FIELDTERMINATOR = ',',ROWTERMINATOR = '\\n',  TABLOCK)\")\n",
    "\n",
    "# print('done')\n"
   ]
  },
  {
   "cell_type": "code",
   "execution_count": null,
   "metadata": {},
   "outputs": [],
   "source": []
  },
  {
   "cell_type": "markdown",
   "metadata": {},
   "source": [
    "# Project Assignment - Part 1"
   ]
  },
  {
   "cell_type": "markdown",
   "metadata": {},
   "source": [
    "### Roberto Pellungrini, Anna Monreale (October 8, 2020)"
   ]
  },
  {
   "cell_type": "markdown",
   "metadata": {},
   "source": [
    "#### Introduction\n",
    "In Part 1 of the project you are required to create and populate a database starting from .csv\n",
    "files and perform different operations on it. In the following you can find a set of incremental\n",
    "assignments, each one with a brief description of what you are required to produce and what\n",
    "tools you can use for the task."
   ]
  },
  {
   "cell_type": "markdown",
   "metadata": {},
   "source": [
    "#### Build the datawarehouse\n",
    "fact.csv is in the form (Id,gpu code,cpu code,ram code,time code,geo code,vendor code\n",
    ",sales uds,sales currency) and it contains the main body of data: a fact table with sales\n",
    "data of three different product lines: cpu, gpu and ram. Note that fields gpu code, cpu code,\n",
    "ram code indicate the type of product: only one can have a non null value in a given row,\n",
    "the other two are necessarily missing.\n",
    "gpu.csv, cpu.csv and ram.csv are product dimensions. They can be linked to the main\n",
    "fact table with the respective primary keys. The primary keys in these three dimension tables\n",
    "are linked, respectively, to gpu code, cpu code, ram code in the fact table.\n",
    "geo.csv time.csv vendor.csv are dimensions. They can be linked to the main fact\n",
    "table with their primary keys.\n",
    "The goal of the following assignments is to build in server apa.di.unipi.it the datawarehouse represented in Figure 1."
   ]
  },
  {
   "cell_type": "markdown",
   "metadata": {},
   "source": [
    "# Start"
   ]
  },
  {
   "cell_type": "markdown",
   "metadata": {},
   "source": [
    "### Assignment 0\n",
    "Create the database schema in Figure 1 using SQL Server Management Studio in server apa.di.unipi.it. The name of the database must be GroupIDHWMart (example: Group01HWMart)"
   ]
  },
  {
   "cell_type": "code",
   "execution_count": null,
   "metadata": {},
   "outputs": [],
   "source": []
  },
  {
   "cell_type": "markdown",
   "metadata": {},
   "source": [
    "### Assignment 1\n",
    "Write a python program that splits fact.csv into three separate fact tables, one for each line of products: cpu, gpu and ram. Write your program using only basic python functionalities (the use of the pandas library is forbidden)."
   ]
  },
  {
   "cell_type": "code",
   "execution_count": null,
   "metadata": {},
   "outputs": [],
   "source": []
  },
  {
   "cell_type": "markdown",
   "metadata": {},
   "source": [
    "### Assignment 2\n",
    "Write a Python program that populates the database GroupIDHWMart with the\n",
    "three fact tables you obtained from the previous assignments and with the necessary\n",
    "linked dimensions described in the remaining .csv files. Note that in Time table the\n",
    "values of the attributes day of week and quarter should be derived from the date.\n",
    "Indicate each quarter with the values: Q1, Q2, Q3, Q4. While for each day of week\n",
    "indicate each day with its proper name (“Monday”, “Tuesday”, etc.)."
   ]
  },
  {
   "cell_type": "code",
   "execution_count": null,
   "metadata": {},
   "outputs": [],
   "source": []
  },
  {
   "cell_type": "markdown",
   "metadata": {},
   "source": [
    "## ---------------------------------------------------------------------------------------------------------------------------------------------------------------------------------------------------------------------------------------------------------------------------------------------------------------------------------------------------------------------------------------------------------------------"
   ]
  },
  {
   "cell_type": "markdown",
   "metadata": {},
   "source": [
    "# Project Assignment - Part 2"
   ]
  },
  {
   "cell_type": "markdown",
   "metadata": {},
   "source": [
    "### Introduction\n",
    "In Part 2 of the project you are required to answer some business questions on the database\n",
    "you created in Part 1. Solve the exercises using Sequel Server Integration Services (SSIS)\n",
    "with computation on client side (i.e., do not use any sql command, only standard SSIS\n",
    "nodes). Each group has to solve only three assignments. Look at the section with your\n",
    "groupid to find what assignments you need to do. Deliver your project with all the required\n",
    "packages in a single .zip folder, named LDS Part2 groupid.zip.\n"
   ]
  },
  {
   "cell_type": "code",
   "execution_count": null,
   "metadata": {},
   "outputs": [],
   "source": []
  },
  {
   "cell_type": "markdown",
   "metadata": {},
   "source": [
    "## Groups from 17 to 26"
   ]
  },
  {
   "cell_type": "markdown",
   "metadata": {},
   "source": [
    "### Assignment 0\n",
    "For every region of Germany, the brand of ram ordered by sales"
   ]
  },
  {
   "cell_type": "markdown",
   "metadata": {},
   "source": []
  },
  {
   "cell_type": "code",
   "execution_count": null,
   "metadata": {},
   "outputs": [],
   "source": []
  },
  {
   "cell_type": "markdown",
   "metadata": {},
   "source": [
    "### Assignment 1\n",
    "For every brand of gpu, calculate the ratio between sales during weekdays and sales\n",
    "during the weekend."
   ]
  },
  {
   "cell_type": "code",
   "execution_count": null,
   "metadata": {},
   "outputs": [],
   "source": []
  },
  {
   "cell_type": "code",
   "execution_count": null,
   "metadata": {},
   "outputs": [],
   "source": []
  },
  {
   "cell_type": "markdown",
   "metadata": {},
   "source": [
    "### Assignment 2\n",
    "Calculate which type of product, cpu, gpu or ram, yields the most sales for each\n",
    "continent."
   ]
  },
  {
   "cell_type": "code",
   "execution_count": null,
   "metadata": {},
   "outputs": [],
   "source": []
  },
  {
   "cell_type": "code",
   "execution_count": null,
   "metadata": {},
   "outputs": [],
   "source": []
  }
 ],
 "metadata": {
  "kernelspec": {
   "display_name": "Python 3",
   "language": "python",
   "name": "python3"
  },
  "language_info": {
   "codemirror_mode": {
    "name": "ipython",
    "version": 3
   },
   "file_extension": ".py",
   "mimetype": "text/x-python",
   "name": "python",
   "nbconvert_exporter": "python",
   "pygments_lexer": "ipython3",
   "version": "3.7.0"
  }
 },
 "nbformat": 4,
 "nbformat_minor": 2
}
